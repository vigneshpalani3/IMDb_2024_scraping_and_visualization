{
 "cells": [
  {
   "cell_type": "code",
   "execution_count": 47,
   "id": "e99ada35-1c2c-4cfc-b234-9c33b4d0100f",
   "metadata": {},
   "outputs": [],
   "source": [
    "## importing modules"
   ]
  },
  {
   "cell_type": "code",
   "execution_count": 2,
   "id": "009a9a44-c0be-4635-a891-25c6f136fa55",
   "metadata": {},
   "outputs": [],
   "source": [
    "from selenium import webdriver\n",
    "from selenium.webdriver.common.by import By\n",
    "from selenium.webdriver.support.ui import WebDriverWait\n",
    "from selenium.webdriver.support import expected_conditions as EC\n",
    "from selenium.common.exceptions import NoSuchElementException\n",
    "import time\n",
    "\n",
    "import pandas as pd\n",
    "from sqlalchemy import create_engine\n",
    "import re"
   ]
  },
  {
   "cell_type": "code",
   "execution_count": 76,
   "id": "37bef086-383b-4b47-bf34-c6963f1ebf3e",
   "metadata": {},
   "outputs": [],
   "source": [
    "# function to click the show more button"
   ]
  },
  {
   "cell_type": "code",
   "execution_count": 3,
   "id": "1714ed79-0261-4191-8745-64db1211bc17",
   "metadata": {},
   "outputs": [],
   "source": [
    "def show_all_data(driver):\n",
    "    while True:\n",
    "        try:\n",
    "            # Wait until it finds the button\n",
    "            see_more_btn=WebDriverWait(driver,10).until(\n",
    "                EC.element_to_be_clickable((By.CLASS_NAME,\"ipc-see-more__button\"))\n",
    "            )\n",
    "            # Scroll to the button\n",
    "            driver.execute_script(\"arguments[0].scrollIntoView(true);\",see_more_btn)\n",
    "            time.sleep(1)\n",
    "            # clicks the button\n",
    "            driver.execute_script(\"arguments[0].click();\",see_more_btn)\n",
    "        except Exception:\n",
    "            break"
   ]
  },
  {
   "cell_type": "code",
   "execution_count": 6,
   "id": "48e99c0a-1f79-4860-90ff-586018a72bea",
   "metadata": {},
   "outputs": [],
   "source": [
    "# Removes the number annotations"
   ]
  },
  {
   "cell_type": "code",
   "execution_count": 8,
   "id": "b0731205-026d-40d1-8fd8-91455ee73db0",
   "metadata": {},
   "outputs": [],
   "source": [
    "def convert_to_number(st):\n",
    "    st=st.replace(\"(\",\"\").replace(\")\",\"\")\n",
    "    num_notes={\"K\":1000,\"M\":1000000,\"B\":1000000000}\n",
    "    if st[-1] in num_notes.keys():\n",
    "        multiplier=num_notes[st[-1]]\n",
    "        num=float(st[:-1])*multiplier\n",
    "        return num\n",
    "    return float(st)"
   ]
  },
  {
   "cell_type": "code",
   "execution_count": 10,
   "id": "2f6a0c27-053e-4b23-a021-06f435ca9a40",
   "metadata": {},
   "outputs": [],
   "source": [
    "url=\"https://www.imdb.com/search/title/?title_type=feature&release_date=2024-01-01,2024-12-31&genres=\""
   ]
  },
  {
   "cell_type": "code",
   "execution_count": 12,
   "id": "42ef16a0-5d8c-4144-9f2d-effbd47d5511",
   "metadata": {},
   "outputs": [],
   "source": [
    "# Function to get the data of movies based on the genre"
   ]
  },
  {
   "cell_type": "code",
   "execution_count": 18,
   "id": "b72e4bbd-46a1-4b71-b9a2-976bf11c6c77",
   "metadata": {},
   "outputs": [],
   "source": [
    "def get_movies_by_genre(genre):\n",
    "    # Array to store movies\n",
    "    movies_arr=[]\n",
    "    # Creating a crome driver\n",
    "    driver=webdriver.Chrome()\n",
    "    driver.get(f'{url}{genre}')\n",
    "    # Calling the show_all_data function\n",
    "    show_all_data(driver)\n",
    "    time.sleep(3)\n",
    "    \n",
    "    # collecting all movie containers\n",
    "    movies=driver.find_elements(By.CLASS_NAME,\"ipc-metadata-list-summary-item\")\n",
    "\n",
    "    files_not_found=0\n",
    "\n",
    "    # looing through movie containers and get their respective names and info\n",
    "    for movie in movies:\n",
    "        try:\n",
    "            Movie_Name=movie.find_element(By.CLASS_NAME,\"ipc-title__text\")\n",
    "            Rating=movie.find_element(By.CLASS_NAME,\"ipc-rating-star--rating\")\n",
    "            Voting_Count=movie.find_element(By.CLASS_NAME,\"ipc-rating-star--voteCount\")\n",
    "            Duration=movie.find_element(By.CSS_SELECTOR,\".jttFlJ:nth-of-type(2)\")\n",
    "\n",
    "            driver.execute_script(\"arguments[0].scrollIntoView(true);\",movie)\n",
    "\n",
    "            Movie_Name=''.join(Movie_Name.text.split(\". \")[1:])\n",
    "            conv_voting_count=convert_to_number(Voting_Count.text)\n",
    "\n",
    "            # Store the info as a dictionary\n",
    "            movie_dict={\n",
    "                \"Movie_Name\":Movie_Name,\n",
    "                \"Rating\":float(Rating.text),\n",
    "                \"Voting_Count\":conv_voting_count,\n",
    "                \"Duration\":Duration.text,\n",
    "                \"Genre\":genre.capitalize()\n",
    "            }\n",
    "            # Append the dictionary to the movies array\n",
    "            movies_arr.append(movie_dict)\n",
    "        except NoSuchElementException:\n",
    "            files_not_found+=1\n",
    "            continue\n",
    "    print(f\" files not found - {files_not_found}\")\n",
    "    driver.quit()\n",
    "    # Returns the movie array\n",
    "    return movies_arr"
   ]
  },
  {
   "cell_type": "code",
   "execution_count": 28,
   "id": "e4f70557",
   "metadata": {},
   "outputs": [],
   "source": [
    "def Convert_Duration(string):\n",
    "    hours=0\n",
    "    minutes=0\n",
    "    if \"h\" in string:\n",
    "        hours=int(re.search(r'(\\d+)h',string).group(1))\n",
    "    if \"m\" in string:\n",
    "        minutes=int(re.search(r\"(\\d+)m\",string).group(1))\n",
    "\n",
    "    return hours*60+minutes"
   ]
  },
  {
   "cell_type": "code",
   "execution_count": null,
   "id": "c6b46414-898f-4124-980c-5fff282c3968",
   "metadata": {},
   "outputs": [],
   "source": [
    "adventure_movies=get_movies_by_genre('adventure')"
   ]
  },
  {
   "cell_type": "code",
   "execution_count": 50,
   "id": "38becba7-f441-4381-9479-b81131834d77",
   "metadata": {},
   "outputs": [
    {
     "name": "stdout",
     "output_type": "stream",
     "text": [
      " files not found - 531\n"
     ]
    }
   ],
   "source": [
    "action_movies=get_movies_by_genre('action')"
   ]
  },
  {
   "cell_type": "code",
   "execution_count": 59,
   "id": "19bdc93d-9dcd-4dcc-bd0c-85531a3e0c8e",
   "metadata": {},
   "outputs": [
    {
     "name": "stdout",
     "output_type": "stream",
     "text": [
      " files not found - 1116\n"
     ]
    }
   ],
   "source": [
    "comedy_movies=get_movies_by_genre('comedy')"
   ]
  },
  {
   "cell_type": "code",
   "execution_count": 16,
   "id": "8af57558-1a9b-463b-812d-209d3b495d6a",
   "metadata": {},
   "outputs": [
    {
     "name": "stdout",
     "output_type": "stream",
     "text": [
      " files not found - 3116\n"
     ]
    }
   ],
   "source": [
    "drama_movies=get_movies_by_genre('drama')"
   ]
  },
  {
   "cell_type": "code",
   "execution_count": 63,
   "id": "b1756b48-4913-4d77-93c1-98cdc7dbd5a4",
   "metadata": {},
   "outputs": [
    {
     "name": "stdout",
     "output_type": "stream",
     "text": [
      " files not found - 382\n"
     ]
    }
   ],
   "source": [
    "crime_movies=get_movies_by_genre('crime')"
   ]
  },
  {
   "cell_type": "code",
   "execution_count": 65,
   "id": "39c32c37-092c-4cf1-93ba-633184dca91d",
   "metadata": {},
   "outputs": [
    {
     "data": {
      "text/html": [
       "<div>\n",
       "<style scoped>\n",
       "    .dataframe tbody tr th:only-of-type {\n",
       "        vertical-align: middle;\n",
       "    }\n",
       "\n",
       "    .dataframe tbody tr th {\n",
       "        vertical-align: top;\n",
       "    }\n",
       "\n",
       "    .dataframe thead th {\n",
       "        text-align: right;\n",
       "    }\n",
       "</style>\n",
       "<table border=\"1\" class=\"dataframe\">\n",
       "  <thead>\n",
       "    <tr style=\"text-align: right;\">\n",
       "      <th></th>\n",
       "      <th>Movie_Name</th>\n",
       "      <th>Rating</th>\n",
       "      <th>Voting_Count</th>\n",
       "      <th>Duration</th>\n",
       "      <th>Genre</th>\n",
       "    </tr>\n",
       "  </thead>\n",
       "  <tbody>\n",
       "    <tr>\n",
       "      <th>0</th>\n",
       "      <td>Mufasa: The Lion King</td>\n",
       "      <td>6.6</td>\n",
       "      <td>59000.0</td>\n",
       "      <td>1h 58m</td>\n",
       "      <td>adventure</td>\n",
       "    </tr>\n",
       "    <tr>\n",
       "      <th>1</th>\n",
       "      <td>Moana 2</td>\n",
       "      <td>6.6</td>\n",
       "      <td>98000.0</td>\n",
       "      <td>1h 40m</td>\n",
       "      <td>adventure</td>\n",
       "    </tr>\n",
       "    <tr>\n",
       "      <th>2</th>\n",
       "      <td>Kraven the Hunter</td>\n",
       "      <td>5.5</td>\n",
       "      <td>52000.0</td>\n",
       "      <td>2h 7m</td>\n",
       "      <td>adventure</td>\n",
       "    </tr>\n",
       "    <tr>\n",
       "      <th>3</th>\n",
       "      <td>Flow</td>\n",
       "      <td>7.9</td>\n",
       "      <td>70000.0</td>\n",
       "      <td>1h 25m</td>\n",
       "      <td>adventure</td>\n",
       "    </tr>\n",
       "    <tr>\n",
       "      <th>4</th>\n",
       "      <td>Gladiator II</td>\n",
       "      <td>6.5</td>\n",
       "      <td>225000.0</td>\n",
       "      <td>2h 28m</td>\n",
       "      <td>adventure</td>\n",
       "    </tr>\n",
       "  </tbody>\n",
       "</table>\n",
       "</div>"
      ],
      "text/plain": [
       "               Movie_Name  Rating  Voting_Count Duration      Genre\n",
       "0   Mufasa: The Lion King     6.6       59000.0   1h 58m  adventure\n",
       "1                 Moana 2     6.6       98000.0   1h 40m  adventure\n",
       "2       Kraven the Hunter     5.5       52000.0    2h 7m  adventure\n",
       "3                    Flow     7.9       70000.0   1h 25m  adventure\n",
       "4            Gladiator II     6.5      225000.0   2h 28m  adventure"
      ]
     },
     "execution_count": 65,
     "metadata": {},
     "output_type": "execute_result"
    }
   ],
   "source": [
    "adventure_movies_df=pd.DataFrame(adventure_movies)\n",
    "adventure_movies_df.head()"
   ]
  },
  {
   "cell_type": "code",
   "execution_count": 48,
   "id": "8c9c667a-7d3d-416a-a577-b8d8bb364b8c",
   "metadata": {},
   "outputs": [
    {
     "data": {
      "text/html": [
       "<div>\n",
       "<style scoped>\n",
       "    .dataframe tbody tr th:only-of-type {\n",
       "        vertical-align: middle;\n",
       "    }\n",
       "\n",
       "    .dataframe tbody tr th {\n",
       "        vertical-align: top;\n",
       "    }\n",
       "\n",
       "    .dataframe thead th {\n",
       "        text-align: right;\n",
       "    }\n",
       "</style>\n",
       "<table border=\"1\" class=\"dataframe\">\n",
       "  <thead>\n",
       "    <tr style=\"text-align: right;\">\n",
       "      <th></th>\n",
       "      <th>Movie_Name</th>\n",
       "      <th>Rating</th>\n",
       "      <th>Voting_Count</th>\n",
       "      <th>Duration</th>\n",
       "      <th>Genre</th>\n",
       "    </tr>\n",
       "  </thead>\n",
       "  <tbody>\n",
       "    <tr>\n",
       "      <th>0</th>\n",
       "      <td>Mufasa: The Lion King</td>\n",
       "      <td>6.6</td>\n",
       "      <td>59000.0</td>\n",
       "      <td>118</td>\n",
       "      <td>adventure</td>\n",
       "    </tr>\n",
       "    <tr>\n",
       "      <th>1</th>\n",
       "      <td>Moana 2</td>\n",
       "      <td>6.6</td>\n",
       "      <td>98000.0</td>\n",
       "      <td>100</td>\n",
       "      <td>adventure</td>\n",
       "    </tr>\n",
       "    <tr>\n",
       "      <th>2</th>\n",
       "      <td>Kraven the Hunter</td>\n",
       "      <td>5.5</td>\n",
       "      <td>52000.0</td>\n",
       "      <td>127</td>\n",
       "      <td>adventure</td>\n",
       "    </tr>\n",
       "    <tr>\n",
       "      <th>3</th>\n",
       "      <td>Flow</td>\n",
       "      <td>7.9</td>\n",
       "      <td>70000.0</td>\n",
       "      <td>85</td>\n",
       "      <td>adventure</td>\n",
       "    </tr>\n",
       "    <tr>\n",
       "      <th>4</th>\n",
       "      <td>Gladiator II</td>\n",
       "      <td>6.5</td>\n",
       "      <td>225000.0</td>\n",
       "      <td>148</td>\n",
       "      <td>adventure</td>\n",
       "    </tr>\n",
       "  </tbody>\n",
       "</table>\n",
       "</div>"
      ],
      "text/plain": [
       "               Movie_Name  Rating  Voting_Count  Duration      Genre\n",
       "0   Mufasa: The Lion King     6.6       59000.0       118  adventure\n",
       "1                 Moana 2     6.6       98000.0       100  adventure\n",
       "2       Kraven the Hunter     5.5       52000.0       127  adventure\n",
       "3                    Flow     7.9       70000.0        85  adventure\n",
       "4            Gladiator II     6.5      225000.0       148  adventure"
      ]
     },
     "execution_count": 48,
     "metadata": {},
     "output_type": "execute_result"
    }
   ],
   "source": [
    "adventure_movies_df[\"Duration\"]=adventure_movies_df[\"Duration\"].apply(Convert_Duration)\n",
    "adventure_movies_df.head()"
   ]
  },
  {
   "cell_type": "code",
   "execution_count": 20,
   "id": "625f163f-fc67-46ca-9700-448a8e1aba69",
   "metadata": {},
   "outputs": [
    {
     "name": "stdout",
     "output_type": "stream",
     "text": [
      "<class 'pandas.core.frame.DataFrame'>\n",
      "RangeIndex: 390 entries, 0 to 389\n",
      "Data columns (total 5 columns):\n",
      " #   Column        Non-Null Count  Dtype  \n",
      "---  ------        --------------  -----  \n",
      " 0   Movie_Name    390 non-null    object \n",
      " 1   Rating        390 non-null    float64\n",
      " 2   Voting_Count  390 non-null    float64\n",
      " 3   Duration      390 non-null    object \n",
      " 4   Genre         390 non-null    object \n",
      "dtypes: float64(2), object(3)\n",
      "memory usage: 15.4+ KB\n"
     ]
    }
   ],
   "source": [
    "adventure_movies_df.info()"
   ]
  },
  {
   "cell_type": "code",
   "execution_count": 56,
   "id": "214dee46-0ab2-4070-9bf7-dffb0b30c606",
   "metadata": {},
   "outputs": [],
   "source": [
    "adventure_movies_df.to_csv(\"adventure_movies.csv\",index=False,encoding=\"utf-8\",sep=\",\")"
   ]
  },
  {
   "cell_type": "code",
   "execution_count": 71,
   "id": "0b62dbb4-5631-488f-99d9-21019363b587",
   "metadata": {},
   "outputs": [
    {
     "data": {
      "text/html": [
       "<div>\n",
       "<style scoped>\n",
       "    .dataframe tbody tr th:only-of-type {\n",
       "        vertical-align: middle;\n",
       "    }\n",
       "\n",
       "    .dataframe tbody tr th {\n",
       "        vertical-align: top;\n",
       "    }\n",
       "\n",
       "    .dataframe thead th {\n",
       "        text-align: right;\n",
       "    }\n",
       "</style>\n",
       "<table border=\"1\" class=\"dataframe\">\n",
       "  <thead>\n",
       "    <tr style=\"text-align: right;\">\n",
       "      <th></th>\n",
       "      <th>Movie_Name</th>\n",
       "      <th>Rating</th>\n",
       "      <th>Voting_Count</th>\n",
       "      <th>Duration</th>\n",
       "      <th>Genre</th>\n",
       "    </tr>\n",
       "  </thead>\n",
       "  <tbody>\n",
       "    <tr>\n",
       "      <th>0</th>\n",
       "      <td>Kraven the Hunter</td>\n",
       "      <td>5.5</td>\n",
       "      <td>52000.0</td>\n",
       "      <td>2h 7m</td>\n",
       "      <td>action</td>\n",
       "    </tr>\n",
       "    <tr>\n",
       "      <th>1</th>\n",
       "      <td>Gladiator II</td>\n",
       "      <td>6.5</td>\n",
       "      <td>225000.0</td>\n",
       "      <td>2h 28m</td>\n",
       "      <td>action</td>\n",
       "    </tr>\n",
       "    <tr>\n",
       "      <th>2</th>\n",
       "      <td>Twisters</td>\n",
       "      <td>6.5</td>\n",
       "      <td>165000.0</td>\n",
       "      <td>2h 2m</td>\n",
       "      <td>action</td>\n",
       "    </tr>\n",
       "    <tr>\n",
       "      <th>3</th>\n",
       "      <td>Sonic the Hedgehog 3</td>\n",
       "      <td>6.9</td>\n",
       "      <td>57000.0</td>\n",
       "      <td>1h 50m</td>\n",
       "      <td>action</td>\n",
       "    </tr>\n",
       "    <tr>\n",
       "      <th>4</th>\n",
       "      <td>Venom: The Last Dance</td>\n",
       "      <td>6.0</td>\n",
       "      <td>114000.0</td>\n",
       "      <td>1h 50m</td>\n",
       "      <td>action</td>\n",
       "    </tr>\n",
       "  </tbody>\n",
       "</table>\n",
       "</div>"
      ],
      "text/plain": [
       "               Movie_Name  Rating  Voting_Count Duration   Genre\n",
       "0       Kraven the Hunter     5.5       52000.0    2h 7m  action\n",
       "1            Gladiator II     6.5      225000.0   2h 28m  action\n",
       "2                Twisters     6.5      165000.0    2h 2m  action\n",
       "3    Sonic the Hedgehog 3     6.9       57000.0   1h 50m  action\n",
       "4   Venom: The Last Dance     6.0      114000.0   1h 50m  action"
      ]
     },
     "execution_count": 71,
     "metadata": {},
     "output_type": "execute_result"
    }
   ],
   "source": [
    "action_movies_df=pd.DataFrame(action_movies)\n",
    "action_movies_df.head()"
   ]
  },
  {
   "cell_type": "code",
   "execution_count": 56,
   "id": "9eb00a38-3656-43d4-8db5-df42ecb2c749",
   "metadata": {},
   "outputs": [
    {
     "data": {
      "text/html": [
       "<div>\n",
       "<style scoped>\n",
       "    .dataframe tbody tr th:only-of-type {\n",
       "        vertical-align: middle;\n",
       "    }\n",
       "\n",
       "    .dataframe tbody tr th {\n",
       "        vertical-align: top;\n",
       "    }\n",
       "\n",
       "    .dataframe thead th {\n",
       "        text-align: right;\n",
       "    }\n",
       "</style>\n",
       "<table border=\"1\" class=\"dataframe\">\n",
       "  <thead>\n",
       "    <tr style=\"text-align: right;\">\n",
       "      <th></th>\n",
       "      <th>Movie_Name</th>\n",
       "      <th>Rating</th>\n",
       "      <th>Voting_Count</th>\n",
       "      <th>Duration</th>\n",
       "      <th>Genre</th>\n",
       "    </tr>\n",
       "  </thead>\n",
       "  <tbody>\n",
       "    <tr>\n",
       "      <th>0</th>\n",
       "      <td>Kraven the Hunter</td>\n",
       "      <td>5.5</td>\n",
       "      <td>52000.0</td>\n",
       "      <td>127</td>\n",
       "      <td>action</td>\n",
       "    </tr>\n",
       "    <tr>\n",
       "      <th>1</th>\n",
       "      <td>Gladiator II</td>\n",
       "      <td>6.5</td>\n",
       "      <td>225000.0</td>\n",
       "      <td>148</td>\n",
       "      <td>action</td>\n",
       "    </tr>\n",
       "    <tr>\n",
       "      <th>2</th>\n",
       "      <td>Twisters</td>\n",
       "      <td>6.5</td>\n",
       "      <td>165000.0</td>\n",
       "      <td>122</td>\n",
       "      <td>action</td>\n",
       "    </tr>\n",
       "    <tr>\n",
       "      <th>3</th>\n",
       "      <td>Sonic the Hedgehog 3</td>\n",
       "      <td>6.9</td>\n",
       "      <td>57000.0</td>\n",
       "      <td>110</td>\n",
       "      <td>action</td>\n",
       "    </tr>\n",
       "    <tr>\n",
       "      <th>4</th>\n",
       "      <td>Venom: The Last Dance</td>\n",
       "      <td>6.0</td>\n",
       "      <td>114000.0</td>\n",
       "      <td>110</td>\n",
       "      <td>action</td>\n",
       "    </tr>\n",
       "    <tr>\n",
       "      <th>...</th>\n",
       "      <td>...</td>\n",
       "      <td>...</td>\n",
       "      <td>...</td>\n",
       "      <td>...</td>\n",
       "      <td>...</td>\n",
       "    </tr>\n",
       "    <tr>\n",
       "      <th>803</th>\n",
       "      <td>Anger</td>\n",
       "      <td>8.8</td>\n",
       "      <td>18.0</td>\n",
       "      <td>83</td>\n",
       "      <td>action</td>\n",
       "    </tr>\n",
       "    <tr>\n",
       "      <th>804</th>\n",
       "      <td>Gadha17</td>\n",
       "      <td>8.0</td>\n",
       "      <td>11.0</td>\n",
       "      <td>90</td>\n",
       "      <td>action</td>\n",
       "    </tr>\n",
       "    <tr>\n",
       "      <th>805</th>\n",
       "      <td>Mandya Haida</td>\n",
       "      <td>6.2</td>\n",
       "      <td>236.0</td>\n",
       "      <td>139</td>\n",
       "      <td>action</td>\n",
       "    </tr>\n",
       "    <tr>\n",
       "      <th>806</th>\n",
       "      <td>Bring Back the Colour</td>\n",
       "      <td>5.9</td>\n",
       "      <td>7.0</td>\n",
       "      <td>47</td>\n",
       "      <td>action</td>\n",
       "    </tr>\n",
       "    <tr>\n",
       "      <th>807</th>\n",
       "      <td>Drunken Swordsman</td>\n",
       "      <td>6.7</td>\n",
       "      <td>49.0</td>\n",
       "      <td>91</td>\n",
       "      <td>action</td>\n",
       "    </tr>\n",
       "  </tbody>\n",
       "</table>\n",
       "<p>808 rows × 5 columns</p>\n",
       "</div>"
      ],
      "text/plain": [
       "                 Movie_Name  Rating  Voting_Count  Duration   Genre\n",
       "0         Kraven the Hunter     5.5       52000.0       127  action\n",
       "1              Gladiator II     6.5      225000.0       148  action\n",
       "2                  Twisters     6.5      165000.0       122  action\n",
       "3      Sonic the Hedgehog 3     6.9       57000.0       110  action\n",
       "4     Venom: The Last Dance     6.0      114000.0       110  action\n",
       "..                      ...     ...           ...       ...     ...\n",
       "803                   Anger     8.8          18.0        83  action\n",
       "804                 Gadha17     8.0          11.0        90  action\n",
       "805            Mandya Haida     6.2         236.0       139  action\n",
       "806   Bring Back the Colour     5.9           7.0        47  action\n",
       "807       Drunken Swordsman     6.7          49.0        91  action\n",
       "\n",
       "[808 rows x 5 columns]"
      ]
     },
     "execution_count": 56,
     "metadata": {},
     "output_type": "execute_result"
    }
   ],
   "source": [
    "action_movies_df[\"Duration\"]=action_movies_df[\"Duration\"].apply(Convert_Duration)\n",
    "action_movies_df.head()"
   ]
  },
  {
   "cell_type": "code",
   "execution_count": 73,
   "id": "ef3c4ef9-43d5-4194-9fa2-a62ab22ed2b7",
   "metadata": {},
   "outputs": [
    {
     "name": "stdout",
     "output_type": "stream",
     "text": [
      "<class 'pandas.core.frame.DataFrame'>\n",
      "RangeIndex: 808 entries, 0 to 807\n",
      "Data columns (total 5 columns):\n",
      " #   Column        Non-Null Count  Dtype  \n",
      "---  ------        --------------  -----  \n",
      " 0   Movie_Name    808 non-null    object \n",
      " 1   Rating        808 non-null    float64\n",
      " 2   Voting_Count  808 non-null    float64\n",
      " 3   Duration      808 non-null    object \n",
      " 4   Genre         808 non-null    object \n",
      "dtypes: float64(2), object(3)\n",
      "memory usage: 31.7+ KB\n"
     ]
    }
   ],
   "source": [
    "action_movies_df.info()"
   ]
  },
  {
   "cell_type": "code",
   "execution_count": 58,
   "id": "d3cb3af2-4b81-4961-958e-0d4261edf7d7",
   "metadata": {},
   "outputs": [],
   "source": [
    "action_movies_df.to_csv('action_movies.csv',index=False,encoding=\"utf-8\",sep=',')"
   ]
  },
  {
   "cell_type": "code",
   "execution_count": 77,
   "id": "f17f09f9-70f9-4458-84ad-e8d80c9e0f46",
   "metadata": {},
   "outputs": [
    {
     "data": {
      "text/html": [
       "<div>\n",
       "<style scoped>\n",
       "    .dataframe tbody tr th:only-of-type {\n",
       "        vertical-align: middle;\n",
       "    }\n",
       "\n",
       "    .dataframe tbody tr th {\n",
       "        vertical-align: top;\n",
       "    }\n",
       "\n",
       "    .dataframe thead th {\n",
       "        text-align: right;\n",
       "    }\n",
       "</style>\n",
       "<table border=\"1\" class=\"dataframe\">\n",
       "  <thead>\n",
       "    <tr style=\"text-align: right;\">\n",
       "      <th></th>\n",
       "      <th>Movie_Name</th>\n",
       "      <th>Rating</th>\n",
       "      <th>Voting_Count</th>\n",
       "      <th>Duration</th>\n",
       "      <th>Genre</th>\n",
       "    </tr>\n",
       "  </thead>\n",
       "  <tbody>\n",
       "    <tr>\n",
       "      <th>0</th>\n",
       "      <td>Anora</td>\n",
       "      <td>7.5</td>\n",
       "      <td>176000.0</td>\n",
       "      <td>2h 19m</td>\n",
       "      <td>comedy</td>\n",
       "    </tr>\n",
       "    <tr>\n",
       "      <th>1</th>\n",
       "      <td>Moana 2</td>\n",
       "      <td>6.6</td>\n",
       "      <td>98000.0</td>\n",
       "      <td>1h 40m</td>\n",
       "      <td>comedy</td>\n",
       "    </tr>\n",
       "    <tr>\n",
       "      <th>2</th>\n",
       "      <td>A Real Pain</td>\n",
       "      <td>7.1</td>\n",
       "      <td>85000.0</td>\n",
       "      <td>1h 30m</td>\n",
       "      <td>comedy</td>\n",
       "    </tr>\n",
       "    <tr>\n",
       "      <th>3</th>\n",
       "      <td>Sonic the Hedgehog 3</td>\n",
       "      <td>6.9</td>\n",
       "      <td>57000.0</td>\n",
       "      <td>1h 50m</td>\n",
       "      <td>comedy</td>\n",
       "    </tr>\n",
       "    <tr>\n",
       "      <th>4</th>\n",
       "      <td>Y2K</td>\n",
       "      <td>4.8</td>\n",
       "      <td>13000.0</td>\n",
       "      <td>1h 31m</td>\n",
       "      <td>comedy</td>\n",
       "    </tr>\n",
       "  </tbody>\n",
       "</table>\n",
       "</div>"
      ],
      "text/plain": [
       "              Movie_Name  Rating  Voting_Count Duration   Genre\n",
       "0                  Anora     7.5      176000.0   2h 19m  comedy\n",
       "1                Moana 2     6.6       98000.0   1h 40m  comedy\n",
       "2            A Real Pain     7.1       85000.0   1h 30m  comedy\n",
       "3   Sonic the Hedgehog 3     6.9       57000.0   1h 50m  comedy\n",
       "4                    Y2K     4.8       13000.0   1h 31m  comedy"
      ]
     },
     "execution_count": 77,
     "metadata": {},
     "output_type": "execute_result"
    }
   ],
   "source": [
    "comedy_movies_df=pd.DataFrame(comedy_movies)\n",
    "comedy_movies_df.head()"
   ]
  },
  {
   "cell_type": "code",
   "execution_count": 62,
   "id": "a72ebfb8-8fdf-4aa5-a794-932ddda1faa8",
   "metadata": {},
   "outputs": [
    {
     "data": {
      "text/html": [
       "<div>\n",
       "<style scoped>\n",
       "    .dataframe tbody tr th:only-of-type {\n",
       "        vertical-align: middle;\n",
       "    }\n",
       "\n",
       "    .dataframe tbody tr th {\n",
       "        vertical-align: top;\n",
       "    }\n",
       "\n",
       "    .dataframe thead th {\n",
       "        text-align: right;\n",
       "    }\n",
       "</style>\n",
       "<table border=\"1\" class=\"dataframe\">\n",
       "  <thead>\n",
       "    <tr style=\"text-align: right;\">\n",
       "      <th></th>\n",
       "      <th>Movie_Name</th>\n",
       "      <th>Rating</th>\n",
       "      <th>Voting_Count</th>\n",
       "      <th>Duration</th>\n",
       "      <th>Genre</th>\n",
       "    </tr>\n",
       "  </thead>\n",
       "  <tbody>\n",
       "    <tr>\n",
       "      <th>0</th>\n",
       "      <td>Anora</td>\n",
       "      <td>7.5</td>\n",
       "      <td>176000.0</td>\n",
       "      <td>139</td>\n",
       "      <td>comedy</td>\n",
       "    </tr>\n",
       "    <tr>\n",
       "      <th>1</th>\n",
       "      <td>Moana 2</td>\n",
       "      <td>6.6</td>\n",
       "      <td>98000.0</td>\n",
       "      <td>100</td>\n",
       "      <td>comedy</td>\n",
       "    </tr>\n",
       "    <tr>\n",
       "      <th>2</th>\n",
       "      <td>A Real Pain</td>\n",
       "      <td>7.1</td>\n",
       "      <td>85000.0</td>\n",
       "      <td>90</td>\n",
       "      <td>comedy</td>\n",
       "    </tr>\n",
       "    <tr>\n",
       "      <th>3</th>\n",
       "      <td>Sonic the Hedgehog 3</td>\n",
       "      <td>6.9</td>\n",
       "      <td>57000.0</td>\n",
       "      <td>110</td>\n",
       "      <td>comedy</td>\n",
       "    </tr>\n",
       "    <tr>\n",
       "      <th>4</th>\n",
       "      <td>Y2K</td>\n",
       "      <td>4.8</td>\n",
       "      <td>13000.0</td>\n",
       "      <td>91</td>\n",
       "      <td>comedy</td>\n",
       "    </tr>\n",
       "  </tbody>\n",
       "</table>\n",
       "</div>"
      ],
      "text/plain": [
       "              Movie_Name  Rating  Voting_Count  Duration   Genre\n",
       "0                  Anora     7.5      176000.0       139  comedy\n",
       "1                Moana 2     6.6       98000.0       100  comedy\n",
       "2            A Real Pain     7.1       85000.0        90  comedy\n",
       "3   Sonic the Hedgehog 3     6.9       57000.0       110  comedy\n",
       "4                    Y2K     4.8       13000.0        91  comedy"
      ]
     },
     "execution_count": 62,
     "metadata": {},
     "output_type": "execute_result"
    }
   ],
   "source": [
    "comedy_movies_df[\"Duration\"]=comedy_movies_df[\"Duration\"].apply(Convert_Duration)\n",
    "comedy_movies_df.head()"
   ]
  },
  {
   "cell_type": "code",
   "execution_count": 81,
   "id": "9ece055a-d023-4571-bd7d-07051fbfb78a",
   "metadata": {},
   "outputs": [
    {
     "name": "stdout",
     "output_type": "stream",
     "text": [
      "<class 'pandas.core.frame.DataFrame'>\n",
      "RangeIndex: 1734 entries, 0 to 1733\n",
      "Data columns (total 5 columns):\n",
      " #   Column        Non-Null Count  Dtype  \n",
      "---  ------        --------------  -----  \n",
      " 0   Movie_Name    1734 non-null   object \n",
      " 1   Rating        1734 non-null   float64\n",
      " 2   Voting_Count  1734 non-null   float64\n",
      " 3   Duration      1734 non-null   object \n",
      " 4   Genre         1734 non-null   object \n",
      "dtypes: float64(2), object(3)\n",
      "memory usage: 67.9+ KB\n"
     ]
    }
   ],
   "source": [
    "comedy_movies_df.info()"
   ]
  },
  {
   "cell_type": "code",
   "execution_count": 60,
   "id": "905c9ac3-c306-4868-b12f-5f92b788120c",
   "metadata": {},
   "outputs": [],
   "source": [
    "comedy_movies_df.to_csv('comedy_movies.csv',index=False,encoding=\"utf-8\",sep=',')"
   ]
  },
  {
   "cell_type": "code",
   "execution_count": 22,
   "id": "f07f3aee-0410-454e-9542-e14ca68d5cbe",
   "metadata": {},
   "outputs": [
    {
     "data": {
      "text/html": [
       "<div>\n",
       "<style scoped>\n",
       "    .dataframe tbody tr th:only-of-type {\n",
       "        vertical-align: middle;\n",
       "    }\n",
       "\n",
       "    .dataframe tbody tr th {\n",
       "        vertical-align: top;\n",
       "    }\n",
       "\n",
       "    .dataframe thead th {\n",
       "        text-align: right;\n",
       "    }\n",
       "</style>\n",
       "<table border=\"1\" class=\"dataframe\">\n",
       "  <thead>\n",
       "    <tr style=\"text-align: right;\">\n",
       "      <th></th>\n",
       "      <th>Movie_Name</th>\n",
       "      <th>Rating</th>\n",
       "      <th>Voting_Count</th>\n",
       "      <th>Duration</th>\n",
       "      <th>Genre</th>\n",
       "    </tr>\n",
       "  </thead>\n",
       "  <tbody>\n",
       "    <tr>\n",
       "      <th>0</th>\n",
       "      <td>Anora</td>\n",
       "      <td>7.5</td>\n",
       "      <td>177000.0</td>\n",
       "      <td>2h 19m</td>\n",
       "      <td>drama</td>\n",
       "    </tr>\n",
       "    <tr>\n",
       "      <th>1</th>\n",
       "      <td>Mufasa: The Lion King</td>\n",
       "      <td>6.6</td>\n",
       "      <td>60000.0</td>\n",
       "      <td>1h 58m</td>\n",
       "      <td>drama</td>\n",
       "    </tr>\n",
       "    <tr>\n",
       "      <th>2</th>\n",
       "      <td>A Complete Unknown</td>\n",
       "      <td>7.4</td>\n",
       "      <td>71000.0</td>\n",
       "      <td>2h 21m</td>\n",
       "      <td>drama</td>\n",
       "    </tr>\n",
       "    <tr>\n",
       "      <th>3</th>\n",
       "      <td>The Substance</td>\n",
       "      <td>7.3</td>\n",
       "      <td>294000.0</td>\n",
       "      <td>2h 21m</td>\n",
       "      <td>drama</td>\n",
       "    </tr>\n",
       "    <tr>\n",
       "      <th>4</th>\n",
       "      <td>The Friend</td>\n",
       "      <td>6.7</td>\n",
       "      <td>865.0</td>\n",
       "      <td>1h 59m</td>\n",
       "      <td>drama</td>\n",
       "    </tr>\n",
       "  </tbody>\n",
       "</table>\n",
       "</div>"
      ],
      "text/plain": [
       "              Movie_Name  Rating  Voting_Count Duration  Genre\n",
       "0                  Anora     7.5      177000.0   2h 19m  drama\n",
       "1  Mufasa: The Lion King     6.6       60000.0   1h 58m  drama\n",
       "2     A Complete Unknown     7.4       71000.0   2h 21m  drama\n",
       "3          The Substance     7.3      294000.0   2h 21m  drama\n",
       "4             The Friend     6.7         865.0   1h 59m  drama"
      ]
     },
     "execution_count": 22,
     "metadata": {},
     "output_type": "execute_result"
    }
   ],
   "source": [
    "drama_movies_df=pd.DataFrame(scifi_movies)\n",
    "drama_movies_df.head()"
   ]
  },
  {
   "cell_type": "code",
   "execution_count": 24,
   "id": "9fbcad9e-8a8c-4f34-a287-6e9bec16aee0",
   "metadata": {},
   "outputs": [
    {
     "name": "stdout",
     "output_type": "stream",
     "text": [
      "<class 'pandas.core.frame.DataFrame'>\n",
      "RangeIndex: 3176 entries, 0 to 3175\n",
      "Data columns (total 5 columns):\n",
      " #   Column        Non-Null Count  Dtype  \n",
      "---  ------        --------------  -----  \n",
      " 0   Movie_Name    3176 non-null   object \n",
      " 1   Rating        3176 non-null   float64\n",
      " 2   Voting_Count  3176 non-null   float64\n",
      " 3   Duration      3176 non-null   object \n",
      " 4   Genre         3176 non-null   object \n",
      "dtypes: float64(2), object(3)\n",
      "memory usage: 124.2+ KB\n"
     ]
    }
   ],
   "source": [
    "drama_movies_df.info()"
   ]
  },
  {
   "cell_type": "code",
   "execution_count": 30,
   "id": "6b47b1d6-ada1-4093-8722-899000857ee2",
   "metadata": {},
   "outputs": [
    {
     "data": {
      "text/html": [
       "<div>\n",
       "<style scoped>\n",
       "    .dataframe tbody tr th:only-of-type {\n",
       "        vertical-align: middle;\n",
       "    }\n",
       "\n",
       "    .dataframe tbody tr th {\n",
       "        vertical-align: top;\n",
       "    }\n",
       "\n",
       "    .dataframe thead th {\n",
       "        text-align: right;\n",
       "    }\n",
       "</style>\n",
       "<table border=\"1\" class=\"dataframe\">\n",
       "  <thead>\n",
       "    <tr style=\"text-align: right;\">\n",
       "      <th></th>\n",
       "      <th>Movie_Name</th>\n",
       "      <th>Rating</th>\n",
       "      <th>Voting_Count</th>\n",
       "      <th>Duration</th>\n",
       "      <th>Genre</th>\n",
       "    </tr>\n",
       "  </thead>\n",
       "  <tbody>\n",
       "    <tr>\n",
       "      <th>0</th>\n",
       "      <td>Anora</td>\n",
       "      <td>7.5</td>\n",
       "      <td>177000.0</td>\n",
       "      <td>139</td>\n",
       "      <td>drama</td>\n",
       "    </tr>\n",
       "    <tr>\n",
       "      <th>1</th>\n",
       "      <td>Mufasa: The Lion King</td>\n",
       "      <td>6.6</td>\n",
       "      <td>60000.0</td>\n",
       "      <td>118</td>\n",
       "      <td>drama</td>\n",
       "    </tr>\n",
       "    <tr>\n",
       "      <th>2</th>\n",
       "      <td>A Complete Unknown</td>\n",
       "      <td>7.4</td>\n",
       "      <td>71000.0</td>\n",
       "      <td>141</td>\n",
       "      <td>drama</td>\n",
       "    </tr>\n",
       "    <tr>\n",
       "      <th>3</th>\n",
       "      <td>The Substance</td>\n",
       "      <td>7.3</td>\n",
       "      <td>294000.0</td>\n",
       "      <td>141</td>\n",
       "      <td>drama</td>\n",
       "    </tr>\n",
       "    <tr>\n",
       "      <th>4</th>\n",
       "      <td>The Friend</td>\n",
       "      <td>6.7</td>\n",
       "      <td>865.0</td>\n",
       "      <td>119</td>\n",
       "      <td>drama</td>\n",
       "    </tr>\n",
       "  </tbody>\n",
       "</table>\n",
       "</div>"
      ],
      "text/plain": [
       "              Movie_Name  Rating  Voting_Count  Duration  Genre\n",
       "0                  Anora     7.5      177000.0       139  drama\n",
       "1  Mufasa: The Lion King     6.6       60000.0       118  drama\n",
       "2     A Complete Unknown     7.4       71000.0       141  drama\n",
       "3          The Substance     7.3      294000.0       141  drama\n",
       "4             The Friend     6.7         865.0       119  drama"
      ]
     },
     "execution_count": 30,
     "metadata": {},
     "output_type": "execute_result"
    }
   ],
   "source": [
    "drama_movies_df[\"Duration\"]=drama_movies_df[\"Duration\"].apply(Convert_Duration)\n",
    "drama_movies_df.head()"
   ]
  },
  {
   "cell_type": "code",
   "execution_count": 62,
   "id": "0fb3bf99-8974-45d4-8db9-36904ade659d",
   "metadata": {},
   "outputs": [],
   "source": [
    "drama_movies_df.to_csv('drama_movies.csv',index=False,encoding=\"utf-8\",sep=',')"
   ]
  },
  {
   "cell_type": "code",
   "execution_count": 89,
   "id": "e5e9c450-432e-484c-8a05-9efba3832cd4",
   "metadata": {},
   "outputs": [
    {
     "data": {
      "text/html": [
       "<div>\n",
       "<style scoped>\n",
       "    .dataframe tbody tr th:only-of-type {\n",
       "        vertical-align: middle;\n",
       "    }\n",
       "\n",
       "    .dataframe tbody tr th {\n",
       "        vertical-align: top;\n",
       "    }\n",
       "\n",
       "    .dataframe thead th {\n",
       "        text-align: right;\n",
       "    }\n",
       "</style>\n",
       "<table border=\"1\" class=\"dataframe\">\n",
       "  <thead>\n",
       "    <tr style=\"text-align: right;\">\n",
       "      <th></th>\n",
       "      <th>Movie_Name</th>\n",
       "      <th>Rating</th>\n",
       "      <th>Voting_Count</th>\n",
       "      <th>Duration</th>\n",
       "      <th>Genre</th>\n",
       "    </tr>\n",
       "  </thead>\n",
       "  <tbody>\n",
       "    <tr>\n",
       "      <th>0</th>\n",
       "      <td>Trap</td>\n",
       "      <td>5.8</td>\n",
       "      <td>136000.0</td>\n",
       "      <td>1h 45m</td>\n",
       "      <td>crime</td>\n",
       "    </tr>\n",
       "    <tr>\n",
       "      <th>1</th>\n",
       "      <td>Pushpa: The Rule - Part 2</td>\n",
       "      <td>6.1</td>\n",
       "      <td>55000.0</td>\n",
       "      <td>3h 21m</td>\n",
       "      <td>crime</td>\n",
       "    </tr>\n",
       "    <tr>\n",
       "      <th>2</th>\n",
       "      <td>Longlegs</td>\n",
       "      <td>6.6</td>\n",
       "      <td>183000.0</td>\n",
       "      <td>1h 41m</td>\n",
       "      <td>crime</td>\n",
       "    </tr>\n",
       "    <tr>\n",
       "      <th>3</th>\n",
       "      <td>Freaky Tales</td>\n",
       "      <td>7.2</td>\n",
       "      <td>906.0</td>\n",
       "      <td>1h 46m</td>\n",
       "      <td>crime</td>\n",
       "    </tr>\n",
       "    <tr>\n",
       "      <th>4</th>\n",
       "      <td>Juror #2</td>\n",
       "      <td>7.0</td>\n",
       "      <td>95000.0</td>\n",
       "      <td>1h 54m</td>\n",
       "      <td>crime</td>\n",
       "    </tr>\n",
       "  </tbody>\n",
       "</table>\n",
       "</div>"
      ],
      "text/plain": [
       "                   Movie_Name  Rating  Voting_Count Duration  Genre\n",
       "0                        Trap     5.8      136000.0   1h 45m  crime\n",
       "1   Pushpa: The Rule - Part 2     6.1       55000.0   3h 21m  crime\n",
       "2                    Longlegs     6.6      183000.0   1h 41m  crime\n",
       "3                Freaky Tales     7.2         906.0   1h 46m  crime\n",
       "4                    Juror #2     7.0       95000.0   1h 54m  crime"
      ]
     },
     "execution_count": 89,
     "metadata": {},
     "output_type": "execute_result"
    }
   ],
   "source": [
    "crime_movies_df=pd.DataFrame(crime_movies)\n",
    "crime_movies_df.head()"
   ]
  },
  {
   "cell_type": "code",
   "execution_count": 91,
   "id": "ae6fe7c1-8326-4d67-af1d-9659a0cd54f7",
   "metadata": {},
   "outputs": [
    {
     "name": "stdout",
     "output_type": "stream",
     "text": [
      "<class 'pandas.core.frame.DataFrame'>\n",
      "RangeIndex: 593 entries, 0 to 592\n",
      "Data columns (total 5 columns):\n",
      " #   Column        Non-Null Count  Dtype  \n",
      "---  ------        --------------  -----  \n",
      " 0   Movie_Name    593 non-null    object \n",
      " 1   Rating        593 non-null    float64\n",
      " 2   Voting_Count  593 non-null    float64\n",
      " 3   Duration      593 non-null    object \n",
      " 4   Genre         593 non-null    object \n",
      "dtypes: float64(2), object(3)\n",
      "memory usage: 23.3+ KB\n"
     ]
    }
   ],
   "source": [
    "crime_movies_df.info()"
   ]
  },
  {
   "cell_type": "code",
   "execution_count": 74,
   "id": "8d341796-b4ab-46e0-8174-c8c04fac36b7",
   "metadata": {},
   "outputs": [
    {
     "data": {
      "text/html": [
       "<div>\n",
       "<style scoped>\n",
       "    .dataframe tbody tr th:only-of-type {\n",
       "        vertical-align: middle;\n",
       "    }\n",
       "\n",
       "    .dataframe tbody tr th {\n",
       "        vertical-align: top;\n",
       "    }\n",
       "\n",
       "    .dataframe thead th {\n",
       "        text-align: right;\n",
       "    }\n",
       "</style>\n",
       "<table border=\"1\" class=\"dataframe\">\n",
       "  <thead>\n",
       "    <tr style=\"text-align: right;\">\n",
       "      <th></th>\n",
       "      <th>Movie_Name</th>\n",
       "      <th>Rating</th>\n",
       "      <th>Voting_Count</th>\n",
       "      <th>Duration</th>\n",
       "      <th>Genre</th>\n",
       "    </tr>\n",
       "  </thead>\n",
       "  <tbody>\n",
       "    <tr>\n",
       "      <th>0</th>\n",
       "      <td>Trap</td>\n",
       "      <td>5.8</td>\n",
       "      <td>136000.0</td>\n",
       "      <td>105</td>\n",
       "      <td>crime</td>\n",
       "    </tr>\n",
       "    <tr>\n",
       "      <th>1</th>\n",
       "      <td>Pushpa: The Rule - Part 2</td>\n",
       "      <td>6.1</td>\n",
       "      <td>55000.0</td>\n",
       "      <td>201</td>\n",
       "      <td>crime</td>\n",
       "    </tr>\n",
       "    <tr>\n",
       "      <th>2</th>\n",
       "      <td>Longlegs</td>\n",
       "      <td>6.6</td>\n",
       "      <td>183000.0</td>\n",
       "      <td>101</td>\n",
       "      <td>crime</td>\n",
       "    </tr>\n",
       "    <tr>\n",
       "      <th>3</th>\n",
       "      <td>Freaky Tales</td>\n",
       "      <td>7.2</td>\n",
       "      <td>906.0</td>\n",
       "      <td>106</td>\n",
       "      <td>crime</td>\n",
       "    </tr>\n",
       "    <tr>\n",
       "      <th>4</th>\n",
       "      <td>Juror #2</td>\n",
       "      <td>7.0</td>\n",
       "      <td>95000.0</td>\n",
       "      <td>114</td>\n",
       "      <td>crime</td>\n",
       "    </tr>\n",
       "  </tbody>\n",
       "</table>\n",
       "</div>"
      ],
      "text/plain": [
       "                   Movie_Name  Rating  Voting_Count  Duration  Genre\n",
       "0                        Trap     5.8      136000.0       105  crime\n",
       "1   Pushpa: The Rule - Part 2     6.1       55000.0       201  crime\n",
       "2                    Longlegs     6.6      183000.0       101  crime\n",
       "3                Freaky Tales     7.2         906.0       106  crime\n",
       "4                    Juror #2     7.0       95000.0       114  crime"
      ]
     },
     "execution_count": 74,
     "metadata": {},
     "output_type": "execute_result"
    }
   ],
   "source": [
    "crime_movies_df[\"Duration\"]=crime_movies_df[\"Duration\"].apply(Convert_Duration)\n",
    "crime_movies_df.head()"
   ]
  },
  {
   "cell_type": "code",
   "execution_count": 64,
   "id": "9fe78f76-3594-4799-af90-2fcd5518a175",
   "metadata": {},
   "outputs": [],
   "source": [
    "crime_movies_df.to_csv('crime_movies.csv',index=False,encoding=\"utf-8\",sep=',')"
   ]
  },
  {
   "cell_type": "code",
   "execution_count": 66,
   "id": "324d692a-6be1-4c1c-891b-4d192e3c719c",
   "metadata": {},
   "outputs": [
    {
     "name": "stdout",
     "output_type": "stream",
     "text": [
      "<class 'pandas.core.frame.DataFrame'>\n",
      "RangeIndex: 6701 entries, 0 to 6700\n",
      "Data columns (total 5 columns):\n",
      " #   Column        Non-Null Count  Dtype  \n",
      "---  ------        --------------  -----  \n",
      " 0   Movie_Name    6701 non-null   object \n",
      " 1   Rating        6701 non-null   float64\n",
      " 2   Voting_Count  6701 non-null   float64\n",
      " 3   Duration      6701 non-null   int64  \n",
      " 4   Genre         6701 non-null   object \n",
      "dtypes: float64(2), int64(1), object(2)\n",
      "memory usage: 261.9+ KB\n"
     ]
    }
   ],
   "source": [
    "movies=pd.concat([adventure_movies_df,action_movies_df,comedy_movies_df,drama_movies_df,crime_movies_df],ignore_index=True)\n",
    "movies.info()"
   ]
  },
  {
   "cell_type": "code",
   "execution_count": 68,
   "id": "c143b294-a70a-4762-b061-13b1401c69a6",
   "metadata": {},
   "outputs": [
    {
     "name": "stdout",
     "output_type": "stream",
     "text": [
      "<class 'pandas.core.frame.DataFrame'>\n",
      "Index: 5444 entries, 0 to 6700\n",
      "Data columns (total 5 columns):\n",
      " #   Column        Non-Null Count  Dtype  \n",
      "---  ------        --------------  -----  \n",
      " 0   Movie_Name    5444 non-null   object \n",
      " 1   Rating        5444 non-null   float64\n",
      " 2   Voting_Count  5444 non-null   float64\n",
      " 3   Duration      5444 non-null   int64  \n",
      " 4   Genre         5444 non-null   object \n",
      "dtypes: float64(2), int64(1), object(2)\n",
      "memory usage: 255.2+ KB\n"
     ]
    }
   ],
   "source": [
    "movies=movies[~(movies.iloc[:,:4].duplicated())]\n",
    "movies.info()"
   ]
  },
  {
   "cell_type": "code",
   "execution_count": 70,
   "id": "7565de0f-b8d5-401f-968d-de8abedbee9e",
   "metadata": {},
   "outputs": [],
   "source": [
    "movies.to_csv(\"movies.csv\",index=False,encoding=\"utf-8\",sep=\",\")"
   ]
  },
  {
   "cell_type": "code",
   "execution_count": 72,
   "id": "64b93ae9-f9fc-4c4e-993b-9e0cf20e19cc",
   "metadata": {},
   "outputs": [
    {
     "data": {
      "text/html": [
       "<div>\n",
       "<style scoped>\n",
       "    .dataframe tbody tr th:only-of-type {\n",
       "        vertical-align: middle;\n",
       "    }\n",
       "\n",
       "    .dataframe tbody tr th {\n",
       "        vertical-align: top;\n",
       "    }\n",
       "\n",
       "    .dataframe thead th {\n",
       "        text-align: right;\n",
       "    }\n",
       "</style>\n",
       "<table border=\"1\" class=\"dataframe\">\n",
       "  <thead>\n",
       "    <tr style=\"text-align: right;\">\n",
       "      <th></th>\n",
       "      <th>Movie_Name</th>\n",
       "      <th>Rating</th>\n",
       "      <th>Voting_Count</th>\n",
       "      <th>Duration</th>\n",
       "      <th>Genre</th>\n",
       "    </tr>\n",
       "  </thead>\n",
       "  <tbody>\n",
       "    <tr>\n",
       "      <th>0</th>\n",
       "      <td>Mufasa: The Lion King</td>\n",
       "      <td>6.6</td>\n",
       "      <td>59000.0</td>\n",
       "      <td>118</td>\n",
       "      <td>Adventure</td>\n",
       "    </tr>\n",
       "    <tr>\n",
       "      <th>1</th>\n",
       "      <td>Moana 2</td>\n",
       "      <td>6.6</td>\n",
       "      <td>98000.0</td>\n",
       "      <td>100</td>\n",
       "      <td>Adventure</td>\n",
       "    </tr>\n",
       "    <tr>\n",
       "      <th>2</th>\n",
       "      <td>Kraven the Hunter</td>\n",
       "      <td>5.5</td>\n",
       "      <td>52000.0</td>\n",
       "      <td>127</td>\n",
       "      <td>Adventure</td>\n",
       "    </tr>\n",
       "    <tr>\n",
       "      <th>3</th>\n",
       "      <td>Flow</td>\n",
       "      <td>7.9</td>\n",
       "      <td>70000.0</td>\n",
       "      <td>85</td>\n",
       "      <td>Adventure</td>\n",
       "    </tr>\n",
       "    <tr>\n",
       "      <th>4</th>\n",
       "      <td>Gladiator II</td>\n",
       "      <td>6.5</td>\n",
       "      <td>225000.0</td>\n",
       "      <td>148</td>\n",
       "      <td>Adventure</td>\n",
       "    </tr>\n",
       "    <tr>\n",
       "      <th>...</th>\n",
       "      <td>...</td>\n",
       "      <td>...</td>\n",
       "      <td>...</td>\n",
       "      <td>...</td>\n",
       "      <td>...</td>\n",
       "    </tr>\n",
       "    <tr>\n",
       "      <th>5439</th>\n",
       "      <td>Slapes</td>\n",
       "      <td>6.8</td>\n",
       "      <td>31.0</td>\n",
       "      <td>82</td>\n",
       "      <td>Crime</td>\n",
       "    </tr>\n",
       "    <tr>\n",
       "      <th>5440</th>\n",
       "      <td>7vens Law</td>\n",
       "      <td>9.4</td>\n",
       "      <td>20.0</td>\n",
       "      <td>68</td>\n",
       "      <td>Crime</td>\n",
       "    </tr>\n",
       "    <tr>\n",
       "      <th>5441</th>\n",
       "      <td>Little Black Submarines</td>\n",
       "      <td>6.9</td>\n",
       "      <td>57.0</td>\n",
       "      <td>123</td>\n",
       "      <td>Crime</td>\n",
       "    </tr>\n",
       "    <tr>\n",
       "      <th>5442</th>\n",
       "      <td>All Suspects</td>\n",
       "      <td>3.6</td>\n",
       "      <td>18.0</td>\n",
       "      <td>96</td>\n",
       "      <td>Crime</td>\n",
       "    </tr>\n",
       "    <tr>\n",
       "      <th>5443</th>\n",
       "      <td>La Nueva Camelia</td>\n",
       "      <td>5.6</td>\n",
       "      <td>13.0</td>\n",
       "      <td>95</td>\n",
       "      <td>Crime</td>\n",
       "    </tr>\n",
       "  </tbody>\n",
       "</table>\n",
       "<p>5444 rows × 5 columns</p>\n",
       "</div>"
      ],
      "text/plain": [
       "                   Movie_Name  Rating  Voting_Count  Duration      Genre\n",
       "0       Mufasa: The Lion King     6.6       59000.0       118  Adventure\n",
       "1                     Moana 2     6.6       98000.0       100  Adventure\n",
       "2           Kraven the Hunter     5.5       52000.0       127  Adventure\n",
       "3                        Flow     7.9       70000.0        85  Adventure\n",
       "4                Gladiator II     6.5      225000.0       148  Adventure\n",
       "...                       ...     ...           ...       ...        ...\n",
       "5439                   Slapes     6.8          31.0        82      Crime\n",
       "5440                7vens Law     9.4          20.0        68      Crime\n",
       "5441  Little Black Submarines     6.9          57.0       123      Crime\n",
       "5442             All Suspects     3.6          18.0        96      Crime\n",
       "5443         La Nueva Camelia     5.6          13.0        95      Crime\n",
       "\n",
       "[5444 rows x 5 columns]"
      ]
     },
     "execution_count": 72,
     "metadata": {},
     "output_type": "execute_result"
    }
   ],
   "source": [
    "movies=pd.read_csv(\"movies.csv\")\n",
    "movies"
   ]
  },
  {
   "cell_type": "code",
   "execution_count": null,
   "id": "bbfb3972-5210-4193-9369-c9128cf27369",
   "metadata": {},
   "outputs": [],
   "source": [
    "# Creating a conneciton with mysql"
   ]
  },
  {
   "cell_type": "code",
   "execution_count": 74,
   "id": "131d39b2-ae1c-45a0-bdea-6acbe718e913",
   "metadata": {},
   "outputs": [],
   "source": [
    "user = \"root\"\n",
    "password = \"%40Vicky143\"\n",
    "host = \"localhost\"\n",
    "database = \"imdb\"\n",
    "\n",
    "engine=create_engine(f\"mysql+pymysql://{user}:{password}@{host}/{database}\")"
   ]
  },
  {
   "cell_type": "code",
   "execution_count": 174,
   "id": "67a2caff-c623-4123-b5bc-7755e6d7458b",
   "metadata": {},
   "outputs": [],
   "source": [
    "# Inserting all data into mysql"
   ]
  },
  {
   "cell_type": "code",
   "execution_count": 76,
   "id": "e7584404-d89c-4db2-965c-e571596a104d",
   "metadata": {},
   "outputs": [
    {
     "data": {
      "text/plain": [
       "5444"
      ]
     },
     "execution_count": 76,
     "metadata": {},
     "output_type": "execute_result"
    }
   ],
   "source": [
    "movies.to_sql(\"movies\",con=engine,if_exists=\"replace\",index=False)"
   ]
  },
  {
   "cell_type": "code",
   "execution_count": null,
   "id": "8e8c1e88-a570-4664-94fd-d9fe12ee324b",
   "metadata": {},
   "outputs": [],
   "source": []
  }
 ],
 "metadata": {
  "kernelspec": {
   "display_name": "Python [conda env:base] *",
   "language": "python",
   "name": "conda-base-py"
  },
  "language_info": {
   "codemirror_mode": {
    "name": "ipython",
    "version": 3
   },
   "file_extension": ".py",
   "mimetype": "text/x-python",
   "name": "python",
   "nbconvert_exporter": "python",
   "pygments_lexer": "ipython3",
   "version": "3.12.7"
  }
 },
 "nbformat": 4,
 "nbformat_minor": 5
}
